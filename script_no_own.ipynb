{
 "cells": [
  {
   "cell_type": "code",
   "execution_count": null,
   "metadata": {},
   "outputs": [],
   "source": [
    "### INSERT SPARKDL INTO NOTEBOOK\n",
    "import os\n",
    "SUBMIT_ARGS = \"--packages databricks:spark-deep-learning:1.2.0-spark2.3-s_2.11 pyspark-shell\"\n",
    "os.environ[\"PYSPARK_SUBMIT_ARGS\"] = SUBMIT_ARGS\n",
    "\n",
    "import findspark\n",
    "findspark.init()\n",
    "\n",
    "from pyspark.sql import SparkSession\n",
    "\n",
    "spark = SparkSession.builder.appName(\"Identifying pneumonia images using pyspark\").getOrCreate()"
   ]
  },
  {
   "cell_type": "code",
   "execution_count": null,
   "metadata": {},
   "outputs": [],
   "source": [
    "### LOAD THE TRAIN IMAGES\n",
    "### WE ASSUME YOU HAVE DOWNLOADED OUR WHOLE FOLDER, WHICH CONTAINS THE IMAGES ASWELL\n",
    "### THIS IS IMPORTANT SINCE WE HAVE MODIFIED THE ORIGINAL.ZIP FOR IT TO TAKE LESS SPACE\n",
    "from pyspark.ml.image import ImageSchema\n",
    "from pyspark.sql.functions import lit\n",
    "from sparkdl.image import imageIO\n",
    "\n",
    "normal_df_train = ImageSchema.readImages(\"chest_xray/train/NORMAL\").withColumn(\"label\", lit(0))\n",
    "pneumonia_df_train = ImageSchema.readImages(\"chest_xray/train/PNEUMONIA\").withColumn(\"label\", lit(1))\n",
    "train_df = normal_df_train.unionAll(pneumonia_df_train)\n",
    "train_df = train_df.repartition(100)"
   ]
  },
  {
   "cell_type": "code",
   "execution_count": null,
   "metadata": {},
   "outputs": [],
   "source": [
    "### LOAD THE TEST IMAGES\n",
    "### WE ASSUME YOU HAVE DOWNLOADED OUR WHOLE FOLDER, WHICH CONTAINS THE IMAGES ASWELL\n",
    "### THIS IS IMPORTANT SINCE WE HAVE MODIFIED THE ORIGINAL.ZIP FOR IT TO TAKE LESS SPACE\n",
    "normal_df_test = ImageSchema.readImages(\"chest_xray/test/NORMAL\").withColumn(\"label\", lit(0))\n",
    "pneumonia_df_test = ImageSchema.readImages(\"chest_xray/test/PNEUMONIA\").withColumn(\"label\", lit(1))\n",
    "test_df = normal_df_test.unionAll(pneumonia_df_test)\n",
    "test_df = test_df.repartition(100)"
   ]
  },
  {
   "cell_type": "code",
   "execution_count": null,
   "metadata": {},
   "outputs": [],
   "source": [
    "### TRAIN OUR MODEL\n",
    "from pyspark.ml.classification import LogisticRegression\n",
    "from pyspark.ml import Pipeline\n",
    "from sparkdl import DeepImageFeaturizer\n",
    "\n",
    "featurizer = DeepImageFeaturizer(inputCol=\"image\", outputCol=\"features\", modelName=\"InceptionV3\")\n",
    "lr = LogisticRegression(maxIter=10, regParam=0.05, elasticNetParam=0.3, labelCol=\"label\")\n",
    "p = Pipeline(stages=[featurizer, lr])\n",
    "p_model = p.fit(train_df)"
   ]
  },
  {
   "cell_type": "code",
   "execution_count": null,
   "metadata": {},
   "outputs": [],
   "source": [
    "### TESTING OUR MODEL ACCURACY\n",
    "from pyspark.ml.evaluation import MulticlassClassificationEvaluator\n",
    "\n",
    "tested_df = p_model.transform(test_df)\n",
    "evaluator = MulticlassClassificationEvaluator(metricName=\"accuracy\")\n",
    "print(\"Test set accuracy = \" + str(evaluator.evaluate(tested_df.select(\"prediction\", \"label\"))))"
   ]
  }
 ],
 "metadata": {
  "kernelspec": {
   "display_name": "Python 2",
   "language": "python",
   "name": "python2"
  },
  "language_info": {
   "codemirror_mode": {
    "name": "ipython",
    "version": 3
   },
   "file_extension": ".py",
   "mimetype": "text/x-python",
   "name": "python",
   "nbconvert_exporter": "python",
   "pygments_lexer": "ipython3",
   "version": "3.7.3"
  }
 },
 "nbformat": 4,
 "nbformat_minor": 2
}
